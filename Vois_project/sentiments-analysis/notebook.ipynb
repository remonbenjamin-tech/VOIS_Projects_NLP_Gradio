{
 "cells": [
  {
   "cell_type": "code",
   "execution_count": 1,
   "id": "99dc75d1",
   "metadata": {},
   "outputs": [
    {
     "name": "stderr",
     "output_type": "stream",
     "text": [
      "c:\\Users\\V16RKhalil\\AppData\\Local\\miniconda3\\envs\\myenv\\Lib\\site-packages\\tqdm\\auto.py:21: TqdmWarning: IProgress not found. Please update jupyter and ipywidgets. See https://ipywidgets.readthedocs.io/en/stable/user_install.html\n",
      "  from .autonotebook import tqdm as notebook_tqdm\n"
     ]
    },
    {
     "name": "stdout",
     "output_type": "stream",
     "text": [
      "* Running on local URL:  http://127.0.0.1:7860\n",
      "* To create a public link, set `share=True` in `launch()`.\n"
     ]
    },
    {
     "data": {
      "text/html": [
       "<div><iframe src=\"http://127.0.0.1:7860/\" width=\"100%\" height=\"500\" allow=\"autoplay; camera; microphone; clipboard-read; clipboard-write;\" frameborder=\"0\" allowfullscreen></iframe></div>"
      ],
      "text/plain": [
       "<IPython.core.display.HTML object>"
      ]
     },
     "metadata": {},
     "output_type": "display_data"
    }
   ],
   "source": [
    "import gradio as gr\n",
    "import pandas as pd\n",
    "import matplotlib.pyplot as plt\n",
    "from wordcloud import WordCloud\n",
    "from textblob import TextBlob\n",
    "from PIL import Image\n",
    "from datetime import datetime\n",
    "\n",
    "\n",
    "def analyze_sentiment(text: str) -> str:\n",
    "    \"\"\"Classify text sentiment via TextBlob polarity.\"\"\"\n",
    "    score = TextBlob(text).sentiment.polarity\n",
    "    if score > 0.1:\n",
    "        return \"Positive\"\n",
    "    elif score < -0.1:\n",
    "        return \"Negative\"\n",
    "    else:\n",
    "        return \"Neutral\"\n",
    "\n",
    "\n",
    "def blank_image(width: int = 400, height: int = 300,\n",
    "                color: tuple[int, int, int] = (255, 255, 255)) -> Image.Image:\n",
    "    \"\"\"Return a plain white PIL.Image (placeholder).\"\"\"\n",
    "    return Image.new(\"RGB\", (width, height), color)\n",
    "\n",
    "\n",
    "def generate_dashboard(file, start_date: str, end_date: str):\n",
    "    # 1. Load CSV safely\n",
    "    try:\n",
    "        df = pd.read_csv(file.name)\n",
    "    except Exception:\n",
    "        return pd.DataFrame(), plt.figure(), *(blank_image(),) * 3\n",
    "\n",
    "    if {\"date\", \"feedback\"} - set(df.columns):\n",
    "        return pd.DataFrame(), plt.figure(), *(blank_image(),) * 3\n",
    "\n",
    "    # 2. Pre-process\n",
    "    df[\"date\"] = pd.to_datetime(df[\"date\"], errors=\"coerce\")\n",
    "    df = df.dropna(subset=[\"date\"])\n",
    "    df[\"feedback\"] = df[\"feedback\"].astype(str)\n",
    "    df[\"sentiment\"] = df[\"feedback\"].apply(analyze_sentiment)\n",
    "\n",
    "    # Date-range filter\n",
    "    try:\n",
    "        start = pd.to_datetime(start_date)\n",
    "        end = pd.to_datetime(end_date)\n",
    "    except Exception:\n",
    "        return pd.DataFrame(), plt.figure(), *(blank_image(),) * 3\n",
    "\n",
    "    df = df.loc[(df[\"date\"] >= start) & (df[\"date\"] <= end)]\n",
    "    if df.empty:\n",
    "        return pd.DataFrame(), plt.figure(), *(blank_image(),) * 3\n",
    "\n",
    "    # 3. Sentiment-over-time plot\n",
    "    daily_sentiment = (\n",
    "        df.groupby([\"date\", \"sentiment\"]).size().unstack().fillna(0)\n",
    "    )\n",
    "    fig, ax = plt.subplots()\n",
    "    daily_sentiment.plot(ax=ax)\n",
    "    ax.set_title(\"Sentiment Over Time\")\n",
    "    ax.set_ylabel(\"Count\")\n",
    "    ax.set_xlabel(\"Date\")\n",
    "    ax.legend(title=\"Sentiment\")\n",
    "    plt.xticks(rotation=45)\n",
    "    fig.tight_layout()\n",
    "\n",
    "    # 4. Word clouds\n",
    "    wc_images: dict[str, Image.Image] = {}\n",
    "    for sentiment in [\"Positive\", \"Neutral\", \"Negative\"]:\n",
    "        text = \" \".join(df.loc[df[\"sentiment\"] == sentiment, \"feedback\"])\n",
    "        if text.strip():\n",
    "            wc = WordCloud(width=400, height=300, background_color=\"white\")\n",
    "            img = wc.generate(text).to_image()         # PIL.Image\n",
    "            wc_images[sentiment] = img\n",
    "        else:\n",
    "            wc_images[sentiment] = blank_image()\n",
    "\n",
    "    # 5. Return outputs (order matches Interface.outputs)\n",
    "    return (\n",
    "        df,\n",
    "        fig,\n",
    "        wc_images[\"Positive\"],\n",
    "        wc_images[\"Neutral\"],\n",
    "        wc_images[\"Negative\"],\n",
    "    )\n",
    "\n",
    "demo = gr.Interface(\n",
    "    fn=generate_dashboard,\n",
    "    inputs=[\n",
    "        gr.File(label=\"Upload CSV with 'date' and 'feedback' columns\"),\n",
    "        gr.Textbox(label=\"Start Date (YYYY-MM-DD)\", value=\"2025-05-01\"),\n",
    "        gr.Textbox(label=\"End Date (YYYY-MM-DD)\", value=\"2025-07-10\"),\n",
    "    ],\n",
    "    outputs=[\n",
    "        gr.Dataframe(label=\"📄 Filtered Data\"),\n",
    "        gr.Plot(label=\"📈 Sentiment Over Time\"),\n",
    "        gr.Image(label=\"☁️ Positive Word Cloud\"),\n",
    "        gr.Image(label=\"☁️ Neutral Word Cloud\"),\n",
    "        gr.Image(label=\"☁️ Negative Word Cloud\"),\n",
    "    ],\n",
    "    title=\"📊 Sentiment Dashboard for Customer Feedback\",\n",
    "    description=(\n",
    "        \"Upload a CSV with **date** and **feedback** columns. \"\n",
    "        \"Select a date range to analyze sentiment trends and view word-clouds.\"\n",
    "    ),\n",
    ")\n",
    "\n",
    "if __name__ == \"__main__\":\n",
    "    demo.launch()\n"
   ]
  },
  {
   "cell_type": "code",
   "execution_count": null,
   "id": "5fa6d090",
   "metadata": {},
   "outputs": [],
   "source": []
  }
 ],
 "metadata": {
  "kernelspec": {
   "display_name": "myenv",
   "language": "python",
   "name": "python3"
  },
  "language_info": {
   "codemirror_mode": {
    "name": "ipython",
    "version": 3
   },
   "file_extension": ".py",
   "mimetype": "text/x-python",
   "name": "python",
   "nbconvert_exporter": "python",
   "pygments_lexer": "ipython3",
   "version": "3.11.13"
  }
 },
 "nbformat": 4,
 "nbformat_minor": 5
}
