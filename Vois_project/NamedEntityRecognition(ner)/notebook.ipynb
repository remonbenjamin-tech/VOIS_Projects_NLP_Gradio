{
 "cells": [
  {
   "cell_type": "code",
   "execution_count": 1,
   "id": "4a5cfc47",
   "metadata": {},
   "outputs": [
    {
     "name": "stderr",
     "output_type": "stream",
     "text": [
      "c:\\Users\\V16RKhalil\\AppData\\Local\\miniconda3\\envs\\myenv\\Lib\\site-packages\\tqdm\\auto.py:21: TqdmWarning: IProgress not found. Please update jupyter and ipywidgets. See https://ipywidgets.readthedocs.io/en/stable/user_install.html\n",
      "  from .autonotebook import tqdm as notebook_tqdm\n"
     ]
    },
    {
     "name": "stdout",
     "output_type": "stream",
     "text": [
      "* Running on local URL:  http://127.0.0.1:7861\n",
      "* To create a public link, set `share=True` in `launch()`.\n"
     ]
    },
    {
     "data": {
      "text/html": [
       "<div><iframe src=\"http://127.0.0.1:7861/\" width=\"100%\" height=\"500\" allow=\"autoplay; camera; microphone; clipboard-read; clipboard-write;\" frameborder=\"0\" allowfullscreen></iframe></div>"
      ],
      "text/plain": [
       "<IPython.core.display.HTML object>"
      ]
     },
     "metadata": {},
     "output_type": "display_data"
    }
   ],
   "source": [
    "import gradio as gr\n",
    "import spacy\n",
    "from spacy import displacy\n",
    "\n",
    "# Load model once\n",
    "nlp = spacy.load(\"en_core_web_sm\")\n",
    "\n",
    "def analyze_ner(text):\n",
    "    if not text.strip():\n",
    "        return \"<p style='color:red;'>Please enter some text.</p>\"\n",
    "\n",
    "    doc = nlp(text)\n",
    "    html = displacy.render(doc, style=\"ent\", page=False)\n",
    "    return html\n",
    "\n",
    "demo = gr.Interface(\n",
    "    fn=analyze_ner,\n",
    "    inputs=gr.Textbox(lines=6, placeholder=\"Enter your text here...\", label=\"Input Text\"),\n",
    "    outputs=gr.HTML(label=\"Named Entities\"),\n",
    "    title=\"📍 Named Entity Recognition (NER)\",\n",
    "    description=\"Enter a sentence and highlight named entities (PERSON, ORG, DATE, etc.) using spaCy.\",\n",
    "    theme=\"soft\"\n",
    ")\n",
    "\n",
    "if __name__ == \"__main__\":\n",
    "    demo.launch()\n"
   ]
  },
  {
   "cell_type": "code",
   "execution_count": null,
   "id": "84128006",
   "metadata": {},
   "outputs": [],
   "source": []
  }
 ],
 "metadata": {
  "kernelspec": {
   "display_name": "myenv",
   "language": "python",
   "name": "python3"
  },
  "language_info": {
   "codemirror_mode": {
    "name": "ipython",
    "version": 3
   },
   "file_extension": ".py",
   "mimetype": "text/x-python",
   "name": "python",
   "nbconvert_exporter": "python",
   "pygments_lexer": "ipython3",
   "version": "3.11.13"
  }
 },
 "nbformat": 4,
 "nbformat_minor": 5
}
