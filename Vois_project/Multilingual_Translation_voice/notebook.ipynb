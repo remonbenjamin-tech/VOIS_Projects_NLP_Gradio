{
 "cells": [
  {
   "cell_type": "code",
   "execution_count": 1,
   "id": "d3544bc3",
   "metadata": {},
   "outputs": [
    {
     "name": "stderr",
     "output_type": "stream",
     "text": [
      "c:\\Users\\V16RKhalil\\AppData\\Local\\miniconda3\\envs\\myenv\\Lib\\site-packages\\tqdm\\auto.py:21: TqdmWarning: IProgress not found. Please update jupyter and ipywidgets. See https://ipywidgets.readthedocs.io/en/stable/user_install.html\n",
      "  from .autonotebook import tqdm as notebook_tqdm\n"
     ]
    },
    {
     "name": "stdout",
     "output_type": "stream",
     "text": [
      "* Running on local URL:  http://127.0.0.1:7860\n",
      "* To create a public link, set `share=True` in `launch()`.\n"
     ]
    },
    {
     "data": {
      "text/html": [
       "<div><iframe src=\"http://127.0.0.1:7860/\" width=\"100%\" height=\"500\" allow=\"autoplay; camera; microphone; clipboard-read; clipboard-write;\" frameborder=\"0\" allowfullscreen></iframe></div>"
      ],
      "text/plain": [
       "<IPython.core.display.HTML object>"
      ]
     },
     "metadata": {},
     "output_type": "display_data"
    },
    {
     "data": {
      "text/plain": []
     },
     "execution_count": 1,
     "metadata": {},
     "output_type": "execute_result"
    }
   ],
   "source": [
    "import gradio as gr\n",
    "from langdetect import detect\n",
    "from googletrans import Translator\n",
    "\n",
    "# Supported language codes and names\n",
    "LANGUAGES = {\n",
    "    \"en\": \"English\",\n",
    "    \"ar\": \"Arabic\",\n",
    "    \"es\": \"Spanish\",\n",
    "    \"de\": \"German\",\n",
    "    \"it\": \"Italian\",\n",
    "    \"ro\": \"Romanian\",\n",
    "    \"hi\": \"Hindi\"\n",
    "}\n",
    "\n",
    "translator = Translator()\n",
    "\n",
    "async def translate_text(input_text, source_lang, target_lang):\n",
    "    if source_lang == \"Detect\":\n",
    "        source_lang = detect(input_text)\n",
    "    \n",
    "    result = await translator.translate(input_text, src=source_lang, dest=target_lang)\n",
    "    return result.text\n",
    "\n",
    "\n",
    "# Gradio UI\n",
    "with gr.Blocks() as demo:\n",
    "    gr.Markdown(\"## 🌍 Multilingual Translator with Voice (EN, AR, ES, DE, IT, RO, HI)\")\n",
    "\n",
    "    with gr.Row():\n",
    "        source_lang = gr.Dropdown([\"Detect\"] + list(LANGUAGES.keys()), value=\"Detect\", label=\"Source Language\")\n",
    "        target_lang = gr.Dropdown(list(LANGUAGES.keys()), value=\"en\", label=\"Target Language\")\n",
    "\n",
    "    with gr.Row():\n",
    "        input_text = gr.Textbox(lines=3, placeholder=\"Enter or speak text...\", label=\"Input Text\")\n",
    "        mic = gr.Microphone(label=\"🎤 Voice Input (Optional)\", sources=['microphone'], type='filepath')\n",
    "\n",
    "    \n",
    "    output_text = gr.Textbox(label=\"Translated Text\")\n",
    "    tts_output = gr.Audio(label=\"🔊 Translated Voice Output\")\n",
    "\n",
    "    async def process(mic_file, text_input, src_lang, tgt_lang):\n",
    "        import speech_recognition as sr\n",
    "        import tempfile\n",
    "        text = text_input\n",
    "\n",
    "        if mic_file:\n",
    "            r = sr.Recognizer()\n",
    "            with sr.AudioFile(mic_file) as source:\n",
    "                audio = r.record(source)\n",
    "            try:\n",
    "                text = r.recognize_google(audio)\n",
    "            except:\n",
    "                text = \"[Voice not recognized]\"\n",
    "\n",
    "        translated = await translate_text(text, src_lang, tgt_lang)\n",
    "\n",
    "        # Use gTTS for voice output\n",
    "        from gtts import gTTS\n",
    "        import os\n",
    "        with tempfile.NamedTemporaryFile(delete=False, suffix=\".mp3\") as f:\n",
    "            tts = gTTS(translated, lang=tgt_lang)\n",
    "            tts.save(f.name)\n",
    "            audio_path = f.name\n",
    "        \n",
    "        return translated, audio_path\n",
    "\n",
    "\n",
    "    translate_button = gr.Button(\"🔁 Translate\")\n",
    "\n",
    "    translate_button.click(fn=process,\n",
    "                           inputs=[mic, input_text, source_lang, target_lang],\n",
    "                           outputs=[output_text, tts_output])\n",
    "\n",
    "demo.launch()\n"
   ]
  },
  {
   "cell_type": "code",
   "execution_count": null,
   "id": "e8aee6c0",
   "metadata": {},
   "outputs": [],
   "source": []
  }
 ],
 "metadata": {
  "kernelspec": {
   "display_name": "myenv",
   "language": "python",
   "name": "python3"
  },
  "language_info": {
   "codemirror_mode": {
    "name": "ipython",
    "version": 3
   },
   "file_extension": ".py",
   "mimetype": "text/x-python",
   "name": "python",
   "nbconvert_exporter": "python",
   "pygments_lexer": "ipython3",
   "version": "3.11.13"
  }
 },
 "nbformat": 4,
 "nbformat_minor": 5
}
