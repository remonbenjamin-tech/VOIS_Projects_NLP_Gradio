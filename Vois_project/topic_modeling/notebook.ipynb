{
 "cells": [
  {
   "cell_type": "code",
   "execution_count": 1,
   "id": "8e16add4",
   "metadata": {},
   "outputs": [
    {
     "name": "stderr",
     "output_type": "stream",
     "text": [
      "c:\\Users\\V16RKhalil\\AppData\\Local\\miniconda3\\envs\\myenv\\Lib\\site-packages\\tqdm\\auto.py:21: TqdmWarning: IProgress not found. Please update jupyter and ipywidgets. See https://ipywidgets.readthedocs.io/en/stable/user_install.html\n",
      "  from .autonotebook import tqdm as notebook_tqdm\n",
      "[nltk_data] Downloading package stopwords to\n",
      "[nltk_data]     C:\\Users\\V16RKhalil\\AppData\\Roaming\\nltk_data...\n",
      "[nltk_data]   Package stopwords is already up-to-date!\n",
      "[nltk_data] Downloading package wordnet to\n",
      "[nltk_data]     C:\\Users\\V16RKhalil\\AppData\\Roaming\\nltk_data...\n",
      "[nltk_data]   Package wordnet is already up-to-date!\n"
     ]
    },
    {
     "name": "stdout",
     "output_type": "stream",
     "text": [
      "* Running on local URL:  http://127.0.0.1:7860\n",
      "* To create a public link, set `share=True` in `launch()`.\n"
     ]
    },
    {
     "data": {
      "text/html": [
       "<div><iframe src=\"http://127.0.0.1:7860/\" width=\"100%\" height=\"500\" allow=\"autoplay; camera; microphone; clipboard-read; clipboard-write;\" frameborder=\"0\" allowfullscreen></iframe></div>"
      ],
      "text/plain": [
       "<IPython.core.display.HTML object>"
      ]
     },
     "metadata": {},
     "output_type": "display_data"
    }
   ],
   "source": [
    "import gradio as gr\n",
    "import pandas as pd\n",
    "import re\n",
    "from nltk.corpus import stopwords\n",
    "from nltk.stem import WordNetLemmatizer\n",
    "import nltk\n",
    "\n",
    "from sklearn.feature_extraction.text import TfidfVectorizer\n",
    "from sklearn.decomposition import LatentDirichletAllocation\n",
    "\n",
    "# Download required NLTK data (run once)\n",
    "try:\n",
    "    nltk.data.find('corpora/stopwords')\n",
    "    nltk.data.find('corpora/wordnet')\n",
    "except LookupError:\n",
    "    nltk.download('stopwords')\n",
    "    nltk.download('wordnet')\n",
    "\n",
    "# Preprocessing function\n",
    "def preprocess(text):\n",
    "    lemmatizer = WordNetLemmatizer()\n",
    "    text = re.sub(r'\\W+', ' ', text.lower())  # Remove punctuation and lowercase\n",
    "    tokens = text.split()\n",
    "    tokens = [lemmatizer.lemmatize(t) for t in tokens if t not in stopwords.words('english')]\n",
    "    return ' '.join(tokens)\n",
    "\n",
    "def process_topic_modeling(file):\n",
    "    if file is None:\n",
    "        return \"Please upload a CSV file.\", \"\", \"\"\n",
    "    \n",
    "    try:\n",
    "        # Read the uploaded file\n",
    "        df = pd.read_csv(file.name)\n",
    "        \n",
    "        # Check if 'text' column exists\n",
    "        if 'text' not in df.columns:\n",
    "            return f\"Error: 'text' column not found. Available columns: {list(df.columns)}\", \"\", \"\"\n",
    "        \n",
    "        # Show original data (convert to HTML for better display)\n",
    "        raw_data_html = df.to_html(max_rows=10, classes='table table-striped')\n",
    "        raw_data_display = f\"<h3>📄 Raw Data (showing first 10 rows)</h3>{raw_data_html}\"\n",
    "        \n",
    "        # Preprocess text\n",
    "        df['processed'] = df['text'].apply(preprocess)\n",
    "        \n",
    "        # Show processed data\n",
    "        processed_data_html = df[['text', 'processed']].head(10).to_html(classes='table table-striped')\n",
    "        processed_data_display = f\"<h3>🔧 Preprocessed Data (showing first 10 rows)</h3>{processed_data_html}\"\n",
    "        \n",
    "        # TF-IDF Vectorizer\n",
    "        vectorizer = TfidfVectorizer(max_df=0.1, min_df=1)\n",
    "        \n",
    "        # Vectorize\n",
    "        X = vectorizer.fit_transform(df['processed'])\n",
    "        \n",
    "        # Topic modeling\n",
    "        lda_model = LatentDirichletAllocation(n_components=5, random_state=42)\n",
    "        lda_model.fit(X)\n",
    "        \n",
    "        # Show topics\n",
    "        topics_text = \"<h3>💡 Top words per topic</h3>\\n\"\n",
    "        for idx, topic in enumerate(lda_model.components_):\n",
    "            top_words = [vectorizer.get_feature_names_out()[i] for i in topic.argsort()[-10:]]\n",
    "            topics_text += f\"<p><strong>Topic {idx}:</strong> {', '.join(top_words)}</p>\\n\"\n",
    "        \n",
    "        return raw_data_display, processed_data_display, topics_text\n",
    "        \n",
    "    except Exception as e:\n",
    "        error_msg = f\"Error processing file: {str(e)}\"\n",
    "        return error_msg, \"\", \"\"\n",
    "\n",
    "# Create Gradio interface\n",
    "with gr.Blocks(title=\"🧠 Topic Modeling Explorer\") as iface:\n",
    "    gr.Markdown(\"# 🧠 Topic Modeling Explorer\")\n",
    "    gr.Markdown(\"Upload a CSV file with a 'text' column containing support tickets or other text data to discover topics.\")\n",
    "    \n",
    "    with gr.Row():\n",
    "        file_input = gr.File(\n",
    "            label=\"Upload your support ticket file (CSV)\",\n",
    "            file_types=[\".csv\"]\n",
    "        )\n",
    "    \n",
    "    with gr.Row():\n",
    "        process_btn = gr.Button(\"Process File\", variant=\"primary\")\n",
    "    \n",
    "    with gr.Column():\n",
    "        raw_data_output = gr.HTML(label=\"Raw Data\")\n",
    "        processed_data_output = gr.HTML(label=\"Preprocessed Data\")\n",
    "        topics_output = gr.HTML(label=\"Topics\")\n",
    "    \n",
    "    # Connect the processing function\n",
    "    process_btn.click(\n",
    "        fn=process_topic_modeling,\n",
    "        inputs=[file_input],\n",
    "        outputs=[raw_data_output, processed_data_output, topics_output]\n",
    "    )\n",
    "    \n",
    "    # Also trigger on file upload\n",
    "    file_input.change(\n",
    "        fn=process_topic_modeling,\n",
    "        inputs=[file_input],\n",
    "        outputs=[raw_data_output, processed_data_output, topics_output]\n",
    "    )\n",
    "\n",
    "# Launch the app\n",
    "if __name__ == \"__main__\":\n",
    "    iface.launch()"
   ]
  },
  {
   "cell_type": "code",
   "execution_count": null,
   "id": "d27bb894",
   "metadata": {},
   "outputs": [],
   "source": []
  }
 ],
 "metadata": {
  "kernelspec": {
   "display_name": "myenv",
   "language": "python",
   "name": "python3"
  },
  "language_info": {
   "codemirror_mode": {
    "name": "ipython",
    "version": 3
   },
   "file_extension": ".py",
   "mimetype": "text/x-python",
   "name": "python",
   "nbconvert_exporter": "python",
   "pygments_lexer": "ipython3",
   "version": "3.11.13"
  }
 },
 "nbformat": 4,
 "nbformat_minor": 5
}
