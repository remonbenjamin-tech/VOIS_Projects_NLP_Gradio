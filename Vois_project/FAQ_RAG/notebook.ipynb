{
 "cells": [
  {
   "cell_type": "code",
   "execution_count": 1,
   "id": "454cc9d0",
   "metadata": {},
   "outputs": [
    {
     "name": "stderr",
     "output_type": "stream",
     "text": [
      "c:\\Users\\V16RKhalil\\AppData\\Local\\miniconda3\\envs\\myenv\\Lib\\site-packages\\tqdm\\auto.py:21: TqdmWarning: IProgress not found. Please update jupyter and ipywidgets. See https://ipywidgets.readthedocs.io/en/stable/user_install.html\n",
      "  from .autonotebook import tqdm as notebook_tqdm\n"
     ]
    },
    {
     "name": "stdout",
     "output_type": "stream",
     "text": [
      "* Running on local URL:  http://127.0.0.1:7861\n",
      "* To create a public link, set `share=True` in `launch()`.\n"
     ]
    },
    {
     "data": {
      "text/html": [
       "<div><iframe src=\"http://127.0.0.1:7861/\" width=\"100%\" height=\"500\" allow=\"autoplay; camera; microphone; clipboard-read; clipboard-write;\" frameborder=\"0\" allowfullscreen></iframe></div>"
      ],
      "text/plain": [
       "<IPython.core.display.HTML object>"
      ]
     },
     "metadata": {},
     "output_type": "display_data"
    },
    {
     "name": "stderr",
     "output_type": "stream",
     "text": [
      "C:\\Users\\V16RKhalil\\AppData\\Local\\Temp\\ipykernel_23312\\1610110621.py:30: LangChainDeprecationWarning: The class `HuggingFaceEmbeddings` was deprecated in LangChain 0.2.2 and will be removed in 1.0. An updated version of the class exists in the :class:`~langchain-huggingface package and should be used instead. To use it run `pip install -U :class:`~langchain-huggingface` and import as `from :class:`~langchain_huggingface import HuggingFaceEmbeddings``.\n",
      "  embeddings = HuggingFaceEmbeddings(model_name=\"sentence-transformers/all-MiniLM-L6-v2\")\n"
     ]
    },
    {
     "name": "stdout",
     "output_type": "stream",
     "text": [
      "WARNING:tensorflow:From c:\\Users\\V16RKhalil\\AppData\\Local\\miniconda3\\envs\\myenv\\Lib\\site-packages\\tf_keras\\src\\losses.py:2976: The name tf.losses.sparse_softmax_cross_entropy is deprecated. Please use tf.compat.v1.losses.sparse_softmax_cross_entropy instead.\n",
      "\n"
     ]
    }
   ],
   "source": [
    "import gradio as gr\n",
    "import wikipedia\n",
    "from langchain.docstore.document import Document\n",
    "from langchain.text_splitter import RecursiveCharacterTextSplitter\n",
    "from langchain_community.vectorstores import FAISS\n",
    "from langchain.embeddings import HuggingFaceEmbeddings\n",
    "from langchain_together import ChatTogether\n",
    "from langchain_core.prompts import ChatPromptTemplate\n",
    "from langchain.chains.combine_documents import create_stuff_documents_chain\n",
    "from langchain.chains import create_retrieval_chain\n",
    "\n",
    "# ---------- Global cache\n",
    "retriever_cache = {}\n",
    "\n",
    "def fetch_wikipedia(_topic: str):\n",
    "    \"\"\"Fetch and split a Wikipedia page into <500-token chunks.\"\"\"\n",
    "    try:\n",
    "        content = wikipedia.page(_topic).content\n",
    "    except Exception as e:\n",
    "        raise RuntimeError(f\"Couldn’t fetch “{_topic}”: {e}\")\n",
    "    \n",
    "    splitter = RecursiveCharacterTextSplitter(chunk_size=500, chunk_overlap=100)\n",
    "    chunks = splitter.split_text(content)\n",
    "    if len(chunks) < 2:\n",
    "        raise RuntimeError(\"⚠️ Article too short.\")\n",
    "    return [Document(page_content=ch) for ch in chunks]\n",
    "\n",
    "def build_retriever(docs):\n",
    "    \"\"\"Build a FAISS retriever from the documents.\"\"\"\n",
    "    embeddings = HuggingFaceEmbeddings(model_name=\"sentence-transformers/all-MiniLM-L6-v2\")\n",
    "    vectorstore = FAISS.from_documents(docs, embeddings)\n",
    "    return vectorstore.as_retriever()\n",
    "\n",
    "# ---------- LLM & Chain Setup\n",
    "prompt = ChatPromptTemplate.from_messages(\n",
    "    [\n",
    "        (\"system\", \"You are a helpful assistant. Use the context to answer the user’s question.\"),\n",
    "        (\"human\", \"Context:\\n{context}\\n\\nQuestion: {input}\"),\n",
    "    ]\n",
    ")\n",
    "\n",
    "llm = ChatTogether(\n",
    "    model=\"meta-llama/Llama-3-70b-chat-hf\",\n",
    "    api_key=\"60ca17c8ea1bd4c7149e011dcbc7146b0b28712e4d9d7c15a926d1df1749ad52\",\n",
    "    temperature=0.3,\n",
    ")\n",
    "\n",
    "def qa_answer(topic, question):\n",
    "    \"\"\"Main function for Gradio interface.\"\"\"\n",
    "    if topic not in retriever_cache:\n",
    "        try:\n",
    "            docs = fetch_wikipedia(topic)\n",
    "            retriever = build_retriever(docs)\n",
    "            retriever_cache[topic] = retriever\n",
    "        except RuntimeError as e:\n",
    "            return str(e)\n",
    "    else:\n",
    "        retriever = retriever_cache[topic]\n",
    "\n",
    "    combine_chain = create_stuff_documents_chain(llm, prompt)\n",
    "    qa_chain = create_retrieval_chain(retriever=retriever, combine_docs_chain=combine_chain)\n",
    "    result = qa_chain.invoke({\"input\": question})\n",
    "    return result.get(\"answer\", \"No answer found.\")\n",
    "\n",
    "# ---------- Gradio UI\n",
    "demo = gr.Interface(\n",
    "    fn=qa_answer,\n",
    "    inputs=[\n",
    "        gr.Textbox(label=\"Wikipedia Article Title\", value=\"Sleep and memory\"),\n",
    "        gr.Textbox(label=\"Your Question\", placeholder=\"What is the relationship between sleep and memory?\")\n",
    "    ],\n",
    "    outputs=gr.Textbox(label=\"Answer\"),\n",
    "    title=\"📚 Wikipedia RAG Chatbot\",\n",
    "    description=\"Enter a Wikipedia topic and ask a question. Uses retrieval-augmented generation with FAISS, Hugging Face embeddings, and LLaMA 3 70B.\"\n",
    ")\n",
    "\n",
    "if __name__ == \"__main__\":\n",
    "    demo.launch()\n"
   ]
  },
  {
   "cell_type": "code",
   "execution_count": null,
   "id": "68335799",
   "metadata": {},
   "outputs": [],
   "source": []
  }
 ],
 "metadata": {
  "kernelspec": {
   "display_name": "myenv",
   "language": "python",
   "name": "python3"
  },
  "language_info": {
   "codemirror_mode": {
    "name": "ipython",
    "version": 3
   },
   "file_extension": ".py",
   "mimetype": "text/x-python",
   "name": "python",
   "nbconvert_exporter": "python",
   "pygments_lexer": "ipython3",
   "version": "3.11.13"
  }
 },
 "nbformat": 4,
 "nbformat_minor": 5
}
